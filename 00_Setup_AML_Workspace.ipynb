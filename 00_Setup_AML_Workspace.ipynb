{
 "cells": [
  {
   "cell_type": "markdown",
   "metadata": {},
   "source": [
    "# Setup AML Workspace\n",
    "---\n",
    "\n",
    "This notebook walks you through all the necessary steps to configure your environment for this solution accelerator including:\n",
    "\n",
    "1. Connecting to your workspace \n",
    "2. Create a config.json (this can be skipped if running on an AML compute instance)\n",
    "3. Create a compute cluster\n"
   ]
  },
  {
   "cell_type": "markdown",
   "metadata": {},
   "source": [
    "## 1.0 Connect to workspace\n",
    "\n",
    "Connect this solution accelerator to your AML workspace. This step isn't necessary if you're using a Notebook VM.\n",
    "\n",
    "The following cell allows you to specify your workspace parameters. This cell uses the python method os.getenv to read values from environment variables which is useful for automation. If no environment variable exists, the parameters will be set to the specified default values."
   ]
  },
  {
   "cell_type": "code",
   "execution_count": 10,
   "metadata": {},
   "outputs": [],
   "source": [
    "import os\n",
    "import datetime\n",
    "\n",
    "#Set Environment Variables\n",
    "os.environ['AZURE_TENANT_ID']=\"<Azure Tenant ID>\"\n",
    "os.environ['AZURE_CLIENT_ID']=\"<Azure Client ID>\"\n",
    "os.environ['AZURE_CLIENT_SECRET']=\"<Azure Client Secret>\"\n",
    "\n",
    "subscription_id=os.getenv(\"SUBSCRIPTION_ID\", default=\"<Subscription ID>\")\n",
    "resource_group=os.getenv(\"RESOURCE_GROUP\", default=\"<Resource Group>\")\n",
    "workspace_name=os.getenv(\"WORKSPACE_NAME\", default=\"<Workspace Name>\")\n",
    "workspace_region=os.getenv(\"WORKSPACE_REGION\", default=\"<Workspace Region>\")"
   ]
  },
  {
   "cell_type": "code",
   "execution_count": 11,
   "metadata": {},
   "outputs": [
    {
     "name": "stderr",
     "output_type": "stream",
     "text": [
      "The deployment request mlw-basic-prod-202209110348-2819687 was accepted. ARM deployment URI for reference: \n",
      "https://portal.azure.com//#blade/HubsExtension/DeploymentDetailsBlade/overview/id/%2Fsubscriptions%2F80a3336a-33ac-4098-a7e7-64eb71d80cee%2FresourceGroups%2Ftgrgml%2Fproviders%2FMicrosoft.Resources%2Fdeployments%2Fmlw-basic-prod-202209110348-2819687\n",
      "Creating Storage Account: (mlwbasicstoragecf2cc6d6e  ) ....  Done (30s)\n",
      "Creating AppInsights: (mlwbasicinsights0553c757  )  Done (5s)\n",
      "Creating KeyVault: (mlwbasickeyvaultbbcc48aa  )  Done (19s)\n",
      "Creating workspace: (mlw-basic-prod-202209110348  ) ....  Done (32s)\n",
      "Total time : 1m 4s\n"
     ]
    },
    {
     "data": {
      "text/plain": [
       "Workspace({'discovery_url': 'https://australiaeast.api.azureml.ms/discovery', 'mlflow_tracking_uri': 'azureml://australiaeast.api.azureml.ms/mlflow/v1.0/subscriptions/80a3336a-33ac-4098-a7e7-64eb71d80cee/resourceGroups/tgrgml/providers/Microsoft.MachineLearningServices/workspaces/mlw-basic-prod-202209110348', 'name': 'mlw-basic-prod-202209110348', 'description': 'This example shows how to create a basic workspace', 'tags': {'purpose': 'demo', 'createdByToolkit': 'sdk-v2-2.4.1'}, 'properties': {}, 'id': '/subscriptions/80a3336a-33ac-4098-a7e7-64eb71d80cee/resourceGroups/tgrgml/providers/Microsoft.MachineLearningServices/workspaces/mlw-basic-prod-202209110348', 'base_path': './', 'creation_context': None, 'serialize': <msrest.serialization.Serializer object at 0x7f20fdc8eb30>, 'display_name': 'Basic workspace-example', 'location': 'australiaeast', 'resource_group': 'tgrgml', 'hbi_workspace': False, 'storage_account': '/subscriptions/80a3336a-33ac-4098-a7e7-64eb71d80cee/resourceGroups/tgrgml/providers/Microsoft.Storage/storageAccounts/mlwbasicstoragecf2cc6d6e', 'container_registry': None, 'key_vault': '/subscriptions/80a3336a-33ac-4098-a7e7-64eb71d80cee/resourceGroups/tgrgml/providers/Microsoft.Keyvault/vaults/mlwbasickeyvaultbbcc48aa', 'application_insights': '/subscriptions/80a3336a-33ac-4098-a7e7-64eb71d80cee/resourceGroups/tgrgml/providers/Microsoft.insights/components/mlwbasicinsights0553c757', 'customer_managed_key': None, 'image_build_compute': None, 'public_network_access': 'Enabled', 'softdelete_enable': None, 'allow_recover_softdeleted_workspace': None})"
      ]
     },
     "execution_count": 11,
     "metadata": {},
     "output_type": "execute_result"
    }
   ],
   "source": [
    "# Set Environment variables: https://docs.microsoft.com/en-us/azure/key-vault/general/tutorial-python-virtual-machine?tabs=azure-cli\n",
    "\n",
    "from azure.ai.ml import MLClient\n",
    "from azure.ai.ml.entities import Workspace\n",
    "from azure.identity import DefaultAzureCredential\n",
    "import datetime\n",
    "\n",
    "ml_client = MLClient(DefaultAzureCredential(), subscription_id, resource_group)\n",
    "\n",
    "basic_workspace_name = \"mlw-basic-prod-\" + datetime.datetime.now().strftime(\n",
    "    \"%Y%m%d%H%M\"\n",
    ")\n",
    "\n",
    "ws_basic = Workspace(\n",
    "    name=basic_workspace_name,\n",
    "    location=\"australiaeast\",\n",
    "    display_name=\"Basic workspace-example\",\n",
    "    description=\"This example shows how to create a basic workspace\",\n",
    "    hbi_workspace=False,\n",
    "    tags=dict(purpose=\"demo\"),\n",
    ")\n",
    "\n",
    "ml_client.workspaces.begin_create(ws_basic)"
   ]
  },
  {
   "cell_type": "code",
   "execution_count": 12,
   "metadata": {},
   "outputs": [
    {
     "name": "stdout",
     "output_type": "stream",
     "text": [
      "mlw-basic-prod-202209110348 : australiaeast : This example shows how to create a basic workspace\n"
     ]
    }
   ],
   "source": [
    "# ML Client retreives a list of workspaces within the resource group:\n",
    "\n",
    "for ws in ml_client.workspaces.list():\n",
    "    print(ws.name, \":\", ws.location, \":\", ws.description)"
   ]
  },
  {
   "cell_type": "markdown",
   "metadata": {},
   "source": [
    "## 2.0 Create compute cluster\n",
    "\n",
    "You will need a compute cluster for training and batch forecasting.\n",
    "This is a one-time set up so you won't need to re-run this in future notebooks, but you'll need to use the same cluster name to reference this cluster in following notebooks."
   ]
  },
  {
   "cell_type": "code",
   "execution_count": 5,
   "metadata": {},
   "outputs": [],
   "source": [
    "# Choose a name for your CPU cluster\n",
    "cpu_cluster_name = 'cpucluster'"
   ]
  },
  {
   "cell_type": "markdown",
   "metadata": {},
   "source": [
    "We create a STANDARD_D13_V2 compute cluster. D-series VMs are used for tasks that require higher compute power and temporary disk performance. This [page](https://docs.microsoft.com/azure/cloud-services/cloud-services-sizes-specs) will give you more information on VM sizes to help you decide which will best fit your use case."
   ]
  },
  {
   "cell_type": "code",
   "execution_count": 27,
   "metadata": {},
   "outputs": [
    {
     "data": {
      "text/plain": [
       "AmlCompute({'type': 'amlcompute', 'created_on': None, 'provisioning_state': 'Succeeded', 'provisioning_errors': None, 'name': 'tg-cpu-cluster', 'description': None, 'tags': {}, 'properties': {}, 'id': '/subscriptions/80a3336a-33ac-4098-a7e7-64eb71d80cee/resourceGroups/tgrgml/providers/Microsoft.MachineLearningServices/workspaces/mlw-basic-prod-202209110348/computes/tg-cpu-cluster', 'base_path': './', 'creation_context': None, 'serialize': <msrest.serialization.Serializer object at 0x7f20fc9e6050>, 'resource_id': None, 'location': 'australiaeast', 'size': 'STANDARD_DS3_V2', 'min_instances': 0, 'max_instances': 2, 'idle_time_before_scale_down': 120.0, 'identity': None, 'ssh_public_access_enabled': True, 'ssh_settings': None, 'network_settings': <azure.ai.ml.entities._compute.compute.NetworkSettings object at 0x7f20fc9e61d0>, 'tier': 'dedicated'})"
      ]
     },
     "execution_count": 27,
     "metadata": {},
     "output_type": "execute_result"
    }
   ],
   "source": [
    "from azure.ai.ml.entities import ComputeInstance, AmlCompute\n",
    "\n",
    "workspace = ws_basic.name\n",
    "\n",
    "ml_client = MLClient(DefaultAzureCredential(), subscription_id, resource_group, workspace)\n",
    "\n",
    "cpu_target = \"tg_cpu_cluster\"\n",
    "\n",
    "try:\n",
    "    ml_client.compute.get(cpu_target)\n",
    "except Exception:\n",
    "    compute = AmlCompute(\n",
    "        name=\"tg-cpu-cluster\",\n",
    "        type=\"amlcompute\",\n",
    "        size=\"STANDARD_DS3_v2\",\n",
    "        location=\"australiaeast\",\n",
    "        min_instances=0,\n",
    "        max_instances=2,\n",
    "        idle_time_before_scale_down=120,\n",
    "    )\n",
    "    ml_client.begin_create_or_update(compute)"
   ]
  },
  {
   "cell_type": "markdown",
   "metadata": {},
   "source": [
    "## Next Steps\n",
    "\n",
    "Now that the AML Workspace its configured, it's time to create the sample datasets. Follow the steps in [01_Data_Preparation.ipynb](01_Data_Preparation.ipynb) for that."
   ]
  }
 ],
 "metadata": {
  "authors": [
   {
    "name": "roastala"
   }
  ],
  "kernelspec": {
   "display_name": "Python 3.10.4 ('azureml_py310_sdkv2')",
   "language": "python",
   "name": "python3"
  },
  "language_info": {
   "codemirror_mode": {
    "name": "ipython",
    "version": 3
   },
   "file_extension": ".py",
   "mimetype": "text/x-python",
   "name": "python",
   "nbconvert_exporter": "python",
   "pygments_lexer": "ipython3",
   "version": "3.10.4"
  },
  "vscode": {
   "interpreter": {
    "hash": "2139c70ac98f3202d028164a545621647e07f47fd6f5d8ac55cf952bf7c15ed1"
   }
  }
 },
 "nbformat": 4,
 "nbformat_minor": 2
}
